{
  "cells": [
    {
      "cell_type": "markdown",
      "id": "7d930c89-4954-4e39-be5a-601c1dd89512",
      "metadata": {
        "id": "7d930c89-4954-4e39-be5a-601c1dd89512"
      },
      "source": [
        "# SQL query from table names - Continued"
      ]
    },
    {
      "cell_type": "code",
      "execution_count": 3,
      "id": "a03f026a",
      "metadata": {
        "id": "a03f026a",
        "colab": {
          "base_uri": "https://localhost:8080/"
        },
        "outputId": "7ba88c97-b664-45ec-b42a-f6a2da472d24"
      },
      "outputs": [
        {
          "output_type": "stream",
          "name": "stdout",
          "text": [
            "\u001b[2K     \u001b[90m━━━━━━━━━━━━━━━━━━━━━━━━━━━━━━━━━━━━━━━━\u001b[0m \u001b[32m325.5/325.5 kB\u001b[0m \u001b[31m2.3 MB/s\u001b[0m eta \u001b[36m0:00:00\u001b[0m\n",
            "\u001b[2K     \u001b[90m━━━━━━━━━━━━━━━━━━━━━━━━━━━━━━━━━━━━━━━━\u001b[0m \u001b[32m75.6/75.6 kB\u001b[0m \u001b[31m3.4 MB/s\u001b[0m eta \u001b[36m0:00:00\u001b[0m\n",
            "\u001b[2K     \u001b[90m━━━━━━━━━━━━━━━━━━━━━━━━━━━━━━━━━━━━━━━━\u001b[0m \u001b[32m77.9/77.9 kB\u001b[0m \u001b[31m3.1 MB/s\u001b[0m eta \u001b[36m0:00:00\u001b[0m\n",
            "\u001b[2K     \u001b[90m━━━━━━━━━━━━━━━━━━━━━━━━━━━━━━━━━━━━━━━━\u001b[0m \u001b[32m58.3/58.3 kB\u001b[0m \u001b[31m2.5 MB/s\u001b[0m eta \u001b[36m0:00:00\u001b[0m\n",
            "\u001b[?25h"
          ]
        }
      ],
      "source": [
        "!pip install --quiet openai\n",
        "from openai import OpenAI\n",
        "import os\n",
        "from google.colab import userdata\n",
        "\n",
        "OPENAI_API_KEY  = userdata.get('OPENAI_API_KEY_Ironhack')"
      ]
    },
    {
      "cell_type": "markdown",
      "id": "53a05b80-88fd-42b2-ba89-763074ae74e9",
      "metadata": {
        "id": "53a05b80-88fd-42b2-ba89-763074ae74e9"
      },
      "source": [
        "## The old Prompt"
      ]
    },
    {
      "cell_type": "code",
      "execution_count": 4,
      "id": "922f8d24",
      "metadata": {
        "id": "922f8d24"
      },
      "outputs": [],
      "source": [
        "#The old prompt\n",
        "old_context = [ {'role':'system', 'content':\"\"\"\n",
        "you are a bot to assist in create SQL commands, all your answers should start with \\\n",
        "this is your SQL, and after that an SQL that can do what the user request. \\\n",
        "Your Database is composed by a SQL database with some tables. \\\n",
        "Try to maintain the SQL order simple.\n",
        "Put the SQL command in white letters with a black background, and just after \\\n",
        "a simple and concise text explaining how it works.\n",
        "If the user ask for something that can not be solved with an SQL Order \\\n",
        "just answer something nice and simple, maximum 10 words, asking him for something that \\\n",
        "can be solved with SQL.\n",
        "\"\"\"} ]\n",
        "\n",
        "old_context.append( {'role':'system', 'content':\"\"\"\n",
        "first table:\n",
        "{\n",
        "  \"tableName\": \"employees\",\n",
        "  \"fields\": [\n",
        "    {\n",
        "      \"nombre\": \"ID_usr\",\n",
        "      \"tipo\": \"int\"\n",
        "    },\n",
        "    {\n",
        "      \"nombre\": \"name\",\n",
        "      \"tipo\": \"varchar\"\n",
        "    }\n",
        "  ]\n",
        "}\n",
        "\"\"\"\n",
        "})\n",
        "\n",
        "old_context.append( {'role':'system', 'content':\"\"\"\n",
        "second table:\n",
        "{\n",
        "  \"tableName\": \"salary\",\n",
        "  \"fields\": [\n",
        "    {\n",
        "      \"nombre\": \"ID_usr\",\n",
        "      \"type\": \"int\"\n",
        "    },\n",
        "    {\n",
        "      \"name\": \"year\",\n",
        "      \"type\": \"date\"\n",
        "    },\n",
        "    {\n",
        "      \"name\": \"salary\",\n",
        "      \"type\": \"float\"\n",
        "    }\n",
        "  ]\n",
        "}\n",
        "\"\"\"\n",
        "})\n",
        "\n",
        "old_context.append( {'role':'system', 'content':\"\"\"\n",
        "third table:\n",
        "{\n",
        "  \"tablename\": \"studies\",\n",
        "  \"fields\": [\n",
        "    {\n",
        "      \"name\": \"ID\",\n",
        "      \"type\": \"int\"\n",
        "    },\n",
        "    {\n",
        "      \"name\": \"ID_usr\",\n",
        "      \"type\": \"int\"\n",
        "    },\n",
        "    {\n",
        "      \"name\": \"educational_level\",\n",
        "      \"type\": \"int\"\n",
        "    },\n",
        "    {\n",
        "      \"name\": \"Institution\",\n",
        "      \"type\": \"varchar\"\n",
        "    },\n",
        "    {\n",
        "      \"name\": \"Years\",\n",
        "      \"type\": \"date\"\n",
        "    }\n",
        "    {\n",
        "      \"name\": \"Speciality\",\n",
        "      \"type\": \"varchar\"\n",
        "    }\n",
        "  ]\n",
        "}\n",
        "\"\"\"\n",
        "})"
      ]
    },
    {
      "cell_type": "markdown",
      "id": "377acaae-7dd0-4d13-bc68-9e33741c231c",
      "metadata": {
        "id": "377acaae-7dd0-4d13-bc68-9e33741c231c"
      },
      "source": [
        "## New Prompt.\n",
        "We are going to improve it following the instructions of a Paper from the Ohaio University: [How to Prompt LLMs for Text-to-SQL: A Study in Zero-shot, Single-domain, and Cross-domain Settings](https://arxiv.org/abs/2305.11853). I recommend you read that paper.\n",
        "\n",
        "For each table, we will define the structure using the same syntax as in a SQL create table command, and add the sample rows of the content.\n",
        "\n",
        "Finally, at the end of the prompt, we'll include some example queries with the SQL that the model should generate. This technique is called Few-Shot Samples, in which we provide the prompt with some examples to assist it in generating the correct SQL.\n"
      ]
    },
    {
      "cell_type": "code",
      "execution_count": 5,
      "id": "5334f942",
      "metadata": {
        "id": "5334f942"
      },
      "outputs": [],
      "source": [
        "context = [ {'role':'system', 'content':\"\"\"\n",
        " CREATE TABLE employees (\n",
        "  ID_usr int,\n",
        "  name varchar\n",
        ");\n",
        "\n",
        "-- Sample rows\n",
        "INSERT INTO employees (ID_usr, name) VALUES\n",
        "(1, 'John Doe'),\n",
        "(2, 'Jane Smith');\n",
        "\n",
        "CREATE TABLE salary (\n",
        "  ID_usr int,\n",
        "  year date,\n",
        "  salary float\n",
        ");\n",
        "\n",
        "-- Sample rows\n",
        "INSERT INTO salary (ID_usr, year, salary) VALUES\n",
        "(1, '2023-01-01', 50000.00),\n",
        "(2, '2023-01-01', 60000.00);\n",
        "\n",
        "CREATE TABLE studies (\n",
        "  ID int,\n",
        "  ID_usr int,\n",
        "  educational_level int,\n",
        "  Institution varchar,\n",
        "  Years date,\n",
        "  Speciality varchar\n",
        ");\n",
        "\n",
        "-- Sample rows\n",
        "INSERT INTO studies (ID, ID_usr, educational_level, Institution, Years, Speciality) VALUES\n",
        "(1, 1, 5, 'XYZ University', '2015-01-01', 'Computer Science'),\n",
        "(2, 2, 4, 'ABC College', '2016-01-01', 'Engineering');\n",
        "\"\"\"} ]\n",
        "\n"
      ]
    },
    {
      "cell_type": "code",
      "execution_count": 6,
      "id": "330e69b0-3f5f-4bb2-8185-aedded2bb993",
      "metadata": {
        "id": "330e69b0-3f5f-4bb2-8185-aedded2bb993"
      },
      "outputs": [],
      "source": [
        "#FEW SHOT SAMPLES\n",
        "context.append( {'role':'system', 'content':\"\"\"\n",
        "-- Example queries\n",
        "-- 1. Retrieve all employees\n",
        "SELECT * FROM employees;\n",
        "\n",
        "-- 2. Get the salary of employee with ID 1 for year 2023\n",
        "SELECT salary FROM salary WHERE ID_usr = 1 AND year = '2023-01-01';\n",
        "\n",
        "-- 3. Find educational level and institution of employee with ID 2\n",
        "SELECT educational_level, Institution FROM studies WHERE ID_usr = 2;\n",
        "\"\"\"\n",
        "})"
      ]
    },
    {
      "cell_type": "code",
      "execution_count": 7,
      "id": "b90f417a",
      "metadata": {
        "id": "b90f417a"
      },
      "outputs": [],
      "source": [
        "#Functio to call the model.\n",
        "def return_CCRMSQL(user_message, context):\n",
        "    client = OpenAI(\n",
        "    # This is the default and can be omitted\n",
        "    api_key=OPENAI_API_KEY,\n",
        ")\n",
        "\n",
        "    newcontext = context.copy()\n",
        "    newcontext.append({'role':'user', 'content':\"question: \" + user_message})\n",
        "\n",
        "    response = client.chat.completions.create(\n",
        "            model=\"gpt-3.5-turbo\",\n",
        "            messages=newcontext,\n",
        "            temperature=0,\n",
        "        )\n",
        "\n",
        "    return (response.choices[0].message.content)"
      ]
    },
    {
      "cell_type": "markdown",
      "id": "9e0a4c11-dfe1-46fe-ac2b-3ff825f9749c",
      "metadata": {
        "id": "9e0a4c11-dfe1-46fe-ac2b-3ff825f9749c"
      },
      "source": [
        "## NL2SQL Samples\n",
        "We're going to review some examples generated with the old prompt and others with the new prompt."
      ]
    },
    {
      "cell_type": "code",
      "execution_count": 8,
      "id": "59e8202c-ce34-487e-9037-c65a263423ed",
      "metadata": {
        "colab": {
          "base_uri": "https://localhost:8080/"
        },
        "id": "59e8202c-ce34-487e-9037-c65a263423ed",
        "outputId": "b73be0c2-8726-4c4f-b7f2-759469b94b03"
      },
      "outputs": [
        {
          "output_type": "stream",
          "name": "stdout",
          "text": [
            "```sql\n",
            "SELECT name FROM employees;\n",
            "```\n"
          ]
        }
      ],
      "source": [
        "#new\n",
        "context_user = context.copy()\n",
        "print(return_CCRMSQL(\"\"\"\n",
        "-- 1. Retrieve all employees' names\n",
        "SELECT name FROM employees;\n",
        "\"\"\", context_user))"
      ]
    },
    {
      "cell_type": "code",
      "execution_count": 9,
      "id": "9c4766b1-48a9-456e-bc6c-4b6f41909aa4",
      "metadata": {
        "colab": {
          "base_uri": "https://localhost:8080/"
        },
        "id": "9c4766b1-48a9-456e-bc6c-4b6f41909aa4",
        "outputId": "a4b245b9-d7d1-421f-f190-ccb515037c2e"
      },
      "outputs": [
        {
          "output_type": "stream",
          "name": "stdout",
          "text": [
            "This is your SQL:\n",
            "```sql\n",
            "SELECT name FROM employees;\n",
            "```\n",
            "\n",
            "Explanation: This SQL query selects the \"name\" column from the \"employees\" table, retrieving the names of all employees in the database.\n"
          ]
        }
      ],
      "source": [
        "#old\n",
        "old_context_user = old_context.copy()\n",
        "print(return_CCRMSQL(\"SELECT name FROM employees;\", old_context_user))"
      ]
    },
    {
      "cell_type": "code",
      "execution_count": 10,
      "id": "38d8d370-0524-4a28-bd54-5e5cddb08e2c",
      "metadata": {
        "colab": {
          "base_uri": "https://localhost:8080/"
        },
        "id": "38d8d370-0524-4a28-bd54-5e5cddb08e2c",
        "outputId": "7804effa-495a-497d-8af7-43efb676881b"
      },
      "outputs": [
        {
          "output_type": "stream",
          "name": "stdout",
          "text": [
            "To calculate the average salary per institution, you can use the following SQL query:\n",
            "\n",
            "```sql\n",
            "SELECT s.Institution, AVG(s.salary) AS avg_salary\n",
            "FROM salary s\n",
            "JOIN employees e ON s.ID_usr = e.ID_usr\n",
            "JOIN studies st ON s.ID_usr = st.ID_usr\n",
            "GROUP BY s.Institution;\n",
            "```\n",
            "\n",
            "This query joins the `salary`, `employees`, and `studies` tables on the employee ID (`ID_usr`) and institution, then calculates the average salary per institution using the `AVG` function and groups the results by institution.\n"
          ]
        }
      ],
      "source": [
        "#new\n",
        "print(return_CCRMSQL(\"What is the average salary per institution?\", context_user))"
      ]
    },
    {
      "cell_type": "code",
      "execution_count": 11,
      "id": "5aa318d4-dd9f-41db-8ff4-c1d87220f766",
      "metadata": {
        "colab": {
          "base_uri": "https://localhost:8080/"
        },
        "id": "5aa318d4-dd9f-41db-8ff4-c1d87220f766",
        "outputId": "f94704dc-2201-4c9f-c83e-1efc2a02e526"
      },
      "outputs": [
        {
          "output_type": "stream",
          "name": "stdout",
          "text": [
            "This is your SQL:\n",
            "```sql\n",
            "SELECT s.Institution, AVG(sa.salary) AS avg_salary\n",
            "FROM studies s\n",
            "JOIN employees e ON s.ID_usr = e.ID_usr\n",
            "JOIN salary sa ON s.ID_usr = sa.ID_usr\n",
            "GROUP BY s.Institution\n",
            "ORDER BY avg_salary DESC\n",
            "LIMIT 1;\n",
            "```\n",
            "\n",
            "This SQL query joins the tables `studies`, `employees`, and `salary` to calculate the average salary for each institution. It then selects the institution with the highest average salary by ordering the results in descending order and limiting the output to the top result.\n"
          ]
        }
      ],
      "source": [
        "#old\n",
        "print(return_CCRMSQL(\"What is the institution with the highest average salary?\", old_context_user))"
      ]
    },
    {
      "cell_type": "markdown",
      "id": "0f31968e-74ad-4ae2-9537-b3d550b1be47",
      "metadata": {
        "id": "0f31968e-74ad-4ae2-9537-b3d550b1be47"
      },
      "source": [
        "# Exercise\n",
        " - Complete the prompts similar to what we did in class.\n",
        "     - Try at least 3 versions\n",
        "     - Be creative\n",
        " - Write a one page report summarizing your findings.\n",
        "     - Were there variations that didn't work well? i.e., where GPT either hallucinated or wrong.\n",
        "     - What did you learn?"
      ]
    },
    {
      "cell_type": "code",
      "source": [
        "context_v1 = [\n",
        "    {'role': 'system', 'content': \"\"\"\n",
        "CREATE TABLE employees (\n",
        "  ID_usr INT,\n",
        "  name VARCHAR\n",
        ");\n",
        "\n",
        "-- Sample data for employees table\n",
        "INSERT INTO employees (ID_usr, name) VALUES\n",
        "(1, 'John Doe'),\n",
        "(2, 'Jane Smith');\n",
        "\n",
        "CREATE TABLE salary (\n",
        "  ID_usr INT,\n",
        "  year DATE,\n",
        "  salary FLOAT\n",
        ");\n",
        "\n",
        "-- Sample data for salary table\n",
        "INSERT INTO salary (ID_usr, year, salary) VALUES\n",
        "(1, '2023-01-01', 50000.00),\n",
        "(2, '2023-01-01', 60000.00);\n",
        "\n",
        "CREATE TABLE studies (\n",
        "  ID INT,\n",
        "  ID_usr INT,\n",
        "  educational_level INT,\n",
        "  Institution VARCHAR,\n",
        "  Years DATE,\n",
        "  Speciality VARCHAR\n",
        ");\n",
        "\n",
        "-- Sample data for studies table\n",
        "INSERT INTO studies (ID, ID_usr, educational_level, Institution, Years, Speciality) VALUES\n",
        "(1, 1, 4, 'ABC College', '2010-01-01', 'Computer Science'),\n",
        "(2, 2, 5, 'XYZ University', '2012-01-01', 'Engineering');\n",
        "\"\"\"},\n",
        "\n",
        "    {'role': 'system', 'content': \"\"\"\n",
        "-- Prompt with examples\n",
        "-- Example queries for SQL generation\n",
        "\n",
        "-- Example 1: Select all columns from employees table\n",
        "SELECT * FROM employees;\n",
        "\n",
        "-- Example 2: Select employee name from employees where ID_usr = 1\n",
        "SELECT name FROM employees WHERE ID_usr = 1;\n",
        "\n",
        "-- Example 3: Select salary from salary where ID_usr = 1 and year = '2023-01-01'\n",
        "SELECT salary FROM salary WHERE ID_usr = 1 AND year = '2023-01-01';\n",
        "\n",
        "-- Example 4: Select educational_level, Institution from studies where ID_usr = 2\n",
        "SELECT educational_level, Institution FROM studies WHERE ID_usr = 2;\n",
        "\n",
        "-- Example 5: Join employees and salary to get name and salary\n",
        "SELECT e.name, s.salary FROM employees e JOIN salary s ON e.ID_usr = s.ID_usr;\n",
        "\n",
        "-- Example 6: Count employees with educational_level = 5\n",
        "SELECT COUNT(*) AS num_employees FROM employees e JOIN studies s ON e.ID_usr = s.ID_usr WHERE s.educational_level = 5;\n",
        "\n",
        "-- Example 7: Calculate average salary by educational level\n",
        "SELECT s.educational_level, AVG(s.salary) AS avg_salary FROM salary s JOIN studies st ON s.ID_usr = st.ID_usr GROUP BY st.educational_level;\n",
        "\"\"\"}\n",
        "]\n"
      ],
      "metadata": {
        "id": "6lxzVMJfe6GC"
      },
      "id": "6lxzVMJfe6GC",
      "execution_count": 17,
      "outputs": []
    },
    {
      "cell_type": "code",
      "source": [
        "print(return_CCRMSQL(\"What is the average salary per institution?\", context_v1))"
      ],
      "metadata": {
        "colab": {
          "base_uri": "https://localhost:8080/"
        },
        "id": "eRTKnD5-hpte",
        "outputId": "2b39e8dd-274d-4d2f-96fa-d1fb54f7e5f1"
      },
      "id": "eRTKnD5-hpte",
      "execution_count": 20,
      "outputs": [
        {
          "output_type": "stream",
          "name": "stdout",
          "text": [
            "To calculate the average salary per institution, we need to join the `employees`, `salary`, and `studies` tables based on the `ID_usr` column. Then, we can group the results by the `Institution` column and calculate the average salary for each institution. Here is the SQL query for this:\n",
            "\n",
            "```sql\n",
            "SELECT st.Institution, AVG(s.salary) AS avg_salary\n",
            "FROM employees e\n",
            "JOIN salary s ON e.ID_usr = s.ID_usr\n",
            "JOIN studies st ON e.ID_usr = st.ID_usr\n",
            "GROUP BY st.Institution;\n",
            "```\n",
            "\n",
            "This query will provide you with the average salary for each institution based on the data in the tables.\n"
          ]
        }
      ]
    },
    {
      "cell_type": "markdown",
      "source": [
        "This version clearly defines table structures (employees, salary, studies) and includes sample rows, aiding the model's understanding of data. It provides basic example queries (SELECT * FROM employees, etc.) that are straightforward and aligned with the provided data structures.\n",
        "However, it focuses on simple queries, potentially limiting the model's ability to handle more complex SQL tasks like joins and aggregations effectively."
      ],
      "metadata": {
        "id": "MKF0XMzEfQ28"
      },
      "id": "MKF0XMzEfQ28"
    },
    {
      "cell_type": "code",
      "source": [
        "context_v2 = [\n",
        "    {'role': 'system', 'content': \"\"\"\n",
        "CREATE TABLE employees (\n",
        "  ID_usr INT,\n",
        "  name VARCHAR\n",
        ");\n",
        "\n",
        "-- Sample data for employees table\n",
        "INSERT INTO employees (ID_usr, name) VALUES\n",
        "(1, 'John Doe'),\n",
        "(2, 'Jane Smith');\n",
        "\n",
        "CREATE TABLE salary (\n",
        "  ID_usr INT,\n",
        "  year DATE,\n",
        "  salary FLOAT\n",
        ");\n",
        "\n",
        "-- Sample data for salary table\n",
        "INSERT INTO salary (ID_usr, year, salary) VALUES\n",
        "(1, '2023-01-01', 50000.00),\n",
        "(2, '2023-01-01', 60000.00);\n",
        "\n",
        "CREATE TABLE studies (\n",
        "  ID INT,\n",
        "  ID_usr INT,\n",
        "  educational_level INT,\n",
        "  Institution VARCHAR,\n",
        "  Years DATE,\n",
        "  Speciality VARCHAR\n",
        ");\n",
        "\n",
        "-- Sample data for studies table\n",
        "INSERT INTO studies (ID, ID_usr, educational_level, Institution, Years, Speciality) VALUES\n",
        "(1, 1, 4, 'ABC College', '2010-01-01', 'Computer Science'),\n",
        "(2, 2, 5, 'XYZ University', '2012-01-01', 'Engineering');\n",
        "\"\"\"},\n",
        "\n",
        "    {'role': 'system', 'content': \"\"\"\n",
        "-- Prompt with examples\n",
        "-- Example queries for SQL generation\n",
        "\n",
        "-- Example 1: Select all columns from employees table\n",
        "SELECT * FROM employees;\n",
        "\n",
        "-- Example 2: Select employee name from employees where ID_usr = 1\n",
        "SELECT name FROM employees WHERE ID_usr = 1;\n",
        "\n",
        "-- Example 3: Select salary from salary where ID_usr = 1 and year = '2023-01-01'\n",
        "SELECT salary FROM salary WHERE ID_usr = 1 AND year = '2023-01-01';\n",
        "\n",
        "-- Example 4: Select educational_level, Institution from studies where ID_usr = 2\n",
        "SELECT educational_level, Institution FROM studies WHERE ID_usr = 2;\n",
        "\n",
        "-- Example 5: Join employees and salary to get name and salary\n",
        "SELECT e.name, s.salary FROM employees e JOIN salary s ON e.ID_usr = s.ID_usr;\n",
        "\n",
        "-- Example 6: Count employees with educational_level = 5\n",
        "SELECT COUNT(*) AS num_employees FROM employees e JOIN studies s ON e.ID_usr = s.ID_usr WHERE s.educational_level = 5;\n",
        "\n",
        "-- Example 7: Calculate average salary by educational level\n",
        "SELECT s.educational_level, AVG(s.salary) AS avg_salary FROM salary s JOIN studies st ON s.ID_usr = st.ID_usr GROUP BY st.educational_level;\n",
        "\"\"\"}\n",
        "]\n"
      ],
      "metadata": {
        "id": "2i6JTmtte-ao"
      },
      "id": "2i6JTmtte-ao",
      "execution_count": 18,
      "outputs": []
    },
    {
      "cell_type": "code",
      "source": [
        "print(return_CCRMSQL(\"What is the average salary per institution?\", context_v2))"
      ],
      "metadata": {
        "colab": {
          "base_uri": "https://localhost:8080/"
        },
        "id": "5DebRZvJhsj3",
        "outputId": "fdaaeec9-59e7-470c-8d52-a956b1023a77"
      },
      "id": "5DebRZvJhsj3",
      "execution_count": 21,
      "outputs": [
        {
          "output_type": "stream",
          "name": "stdout",
          "text": [
            "To calculate the average salary per institution, we need to join the `employees`, `salary`, and `studies` tables based on the `ID_usr` column. Then, we can group the results by the `Institution` column and calculate the average salary for each institution. Here is the SQL query for this:\n",
            "\n",
            "```sql\n",
            "SELECT st.Institution, AVG(s.salary) AS avg_salary\n",
            "FROM employees e\n",
            "JOIN salary s ON e.ID_usr = s.ID_usr\n",
            "JOIN studies st ON e.ID_usr = st.ID_usr\n",
            "GROUP BY st.Institution;\n",
            "```\n",
            "\n",
            "This query will provide you with the average salary for each institution based on the data in the `employees`, `salary`, and `studies` tables.\n"
          ]
        }
      ]
    },
    {
      "cell_type": "markdown",
      "source": [
        "This version extends the prompt with more complex queries involving joins (JOIN) and aggregations (COUNT, AVG), enhancing the model's capabilities to handle diverse SQL tasks.\n",
        "Provides comprehensive few-shot examples that cover a wider range of SQL operations, including data aggregation and analysis.\n",
        "But it has an increased complexity which may challenge the model, leading to potential errors or incorrect SQL generation, especially for nuanced queries requiring precise logic.\n"
      ],
      "metadata": {
        "id": "MsBvxGedfWug"
      },
      "id": "MsBvxGedfWug"
    },
    {
      "cell_type": "markdown",
      "source": [
        "\n",
        "\n",
        "Both `context_v1` and `context_v2` produced identical SQL queries for the given question. This consistency suggests that the improvements made to both contexts were effective in guiding the model to generate the correct SQL structure.\n",
        "\n",
        "The fact that both contexts yielded the correct SQL query indicates that the model comprehended the prompt well and utilized the provided schema information (`employees`, `salary`, `studies` tables) effectively to generate the desired SQL.\n",
        "\n",
        "The clarity of the prompt contexts (`context_v1` and `context_v2`) was sufficient to direct the model in understanding the database schema, relationships, and operations required to answer the query accurately. This suggests that the improvements made, such as explicit table definitions, sample data, and example queries, contributed positively to the model's performance.\n",
        "\n",
        "The test case \"What is the average salary per institution?\" effectively validated that both contexts produced correct SQL outputs. This verifies that the contexts are appropriately structured and informative for guiding SQL generation tasks.\n",
        "\n",
        "Both versions allow the model to generate SQL queries based on provided contexts and example queries. Version 2 demonstrates better coverage of complex SQL scenarios but may also lead to more errors or inaccuracies due to its increased complexity.\n"
      ],
      "metadata": {
        "id": "fQDNHOSRfe3n"
      },
      "id": "fQDNHOSRfe3n"
    },
    {
      "cell_type": "code",
      "source": [],
      "metadata": {
        "id": "NRrJNhvDiCA5"
      },
      "id": "NRrJNhvDiCA5",
      "execution_count": null,
      "outputs": []
    },
    {
      "cell_type": "code",
      "source": [],
      "metadata": {
        "id": "HMmwMmmJiJJx"
      },
      "id": "HMmwMmmJiJJx",
      "execution_count": null,
      "outputs": []
    }
  ],
  "metadata": {
    "colab": {
      "provenance": []
    },
    "kernelspec": {
      "display_name": "Python 3 (ipykernel)",
      "language": "python",
      "name": "python3"
    },
    "language_info": {
      "codemirror_mode": {
        "name": "ipython",
        "version": 3
      },
      "file_extension": ".py",
      "mimetype": "text/x-python",
      "name": "python",
      "nbconvert_exporter": "python",
      "pygments_lexer": "ipython3",
      "version": "3.11.8"
    }
  },
  "nbformat": 4,
  "nbformat_minor": 5
}